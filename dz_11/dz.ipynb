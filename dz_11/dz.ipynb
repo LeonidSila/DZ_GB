{
 "cells": [
  {
   "cell_type": "code",
   "execution_count": 2,
   "id": "4ceb1ae1",
   "metadata": {},
   "outputs": [],
   "source": [
    "import numpy as np"
   ]
  },
  {
   "cell_type": "code",
   "execution_count": 3,
   "id": "938cfcaf",
   "metadata": {},
   "outputs": [],
   "source": [
    "import random"
   ]
  },
  {
   "cell_type": "code",
   "execution_count": 50,
   "id": "45bff8ff",
   "metadata": {},
   "outputs": [],
   "source": [
    "a1 = []\n",
    "for i in range(20):\n",
    "    a1.append(random.randint(1, 100))"
   ]
  },
  {
   "cell_type": "code",
   "execution_count": 51,
   "id": "210c344f",
   "metadata": {},
   "outputs": [
    {
     "data": {
      "text/plain": [
       "20"
      ]
     },
     "execution_count": 51,
     "metadata": {},
     "output_type": "execute_result"
    }
   ],
   "source": [
    "len(a1)"
   ]
  },
  {
   "cell_type": "code",
   "execution_count": 22,
   "id": "4935c46d",
   "metadata": {},
   "outputs": [],
   "source": [
    "ar1 = np.arange(1, 21)\n"
   ]
  },
  {
   "cell_type": "code",
   "execution_count": 53,
   "id": "b710071d",
   "metadata": {},
   "outputs": [
    {
     "data": {
      "text/plain": [
       "array([ 60,  74,  80,  42,  65, 101,  92,  65,  56,  86,  36,  85,  89,\n",
       "        68,  41,  18, 110,  41,  68,  99])"
      ]
     },
     "execution_count": 53,
     "metadata": {},
     "output_type": "execute_result"
    }
   ],
   "source": [
    "ar1+a1"
   ]
  },
  {
   "cell_type": "code",
   "execution_count": 54,
   "id": "86a3324d",
   "metadata": {},
   "outputs": [
    {
     "data": {
      "text/plain": [
       "array([-58, -70, -74, -34, -55, -89, -78, -49, -38, -66, -14, -61, -63,\n",
       "       -40, -11,  14, -76,  -5, -30, -59])"
      ]
     },
     "execution_count": 54,
     "metadata": {},
     "output_type": "execute_result"
    }
   ],
   "source": [
    "ar1-a1"
   ]
  },
  {
   "cell_type": "code",
   "execution_count": 55,
   "id": "bcef7852",
   "metadata": {},
   "outputs": [
    {
     "data": {
      "text/plain": [
       "array([  59,  144,  231,  152,  300,  570,  595,  456,  423,  760,  275,\n",
       "        876,  988,  756,  390,   32, 1581,  414,  931, 1580])"
      ]
     },
     "execution_count": 55,
     "metadata": {},
     "output_type": "execute_result"
    }
   ],
   "source": [
    "ar1*a1"
   ]
  },
  {
   "cell_type": "code",
   "execution_count": 56,
   "id": "f8a739e8",
   "metadata": {},
   "outputs": [
    {
     "data": {
      "text/plain": [
       "array([0.01694915, 0.02777778, 0.03896104, 0.10526316, 0.08333333,\n",
       "       0.06315789, 0.08235294, 0.14035088, 0.19148936, 0.13157895,\n",
       "       0.44      , 0.16438356, 0.17105263, 0.25925926, 0.57692308,\n",
       "       8.        , 0.1827957 , 0.7826087 , 0.3877551 , 0.25316456])"
      ]
     },
     "execution_count": 56,
     "metadata": {},
     "output_type": "execute_result"
    }
   ],
   "source": [
    "ar1/a1"
   ]
  },
  {
   "cell_type": "code",
   "execution_count": 73,
   "id": "924f1de0",
   "metadata": {},
   "outputs": [],
   "source": [
    "list_1 = []\n",
    "for j in range(4):\n",
    "    list_2 = []\n",
    "    for i in range(5):\n",
    "        list_2.append(random.randint(1, 100))\n",
    "    list_1.append(list_2)"
   ]
  },
  {
   "cell_type": "code",
   "execution_count": 76,
   "id": "7f8f6e55",
   "metadata": {},
   "outputs": [
    {
     "data": {
      "text/plain": [
       "[[46, 50, 80, 6, 75],\n",
       " [70, 81, 41, 45, 18],\n",
       " [13, 87, 42, 55, 40],\n",
       " [75, 86, 91, 16, 96]]"
      ]
     },
     "execution_count": 76,
     "metadata": {},
     "output_type": "execute_result"
    }
   ],
   "source": [
    "list_1"
   ]
  },
  {
   "cell_type": "code",
   "execution_count": 84,
   "id": "e2090baf",
   "metadata": {},
   "outputs": [
    {
     "name": "stdout",
     "output_type": "stream",
     "text": [
      "4\n",
      "5\n",
      "[46, 50, 80, 6, 75]\n",
      "[70, 81, 41, 45, 18]\n",
      "[13, 87, 42, 55, 40]\n",
      "[75, 86, 91, 16, 96]\n",
      "______________________________________\n",
      "Вывод максимальных чисел по строчкам\n",
      "80\n",
      "Вывод максимальных чисел по строчкам\n",
      "81\n",
      "Вывод максимальных чисел по строчкам\n",
      "87\n",
      "Вывод максимальных чисел по строчкам\n",
      "96\n",
      "______________________________________\n",
      "Максимальные в слобе 0\n",
      "75\n",
      "Максимальные в слобе 1\n",
      "87\n",
      "Максимальные в слобе 2\n",
      "91\n",
      "Максимальные в слобе 3\n",
      "55\n",
      "Максимальные в слобе 4\n",
      "96\n"
     ]
    }
   ],
   "source": [
    "print(len(list_1)) # Вывод количесва строчек\n",
    "print(len(list_1[0])) # Вывод количесва столбиков\n",
    "for i in range(len(list_1)):\n",
    "    print(list_1[i]) # Вывод всего масива\n",
    "print('______________________________________')\n",
    "for i in range(len(list_1)):\n",
    "    print('Вывод максимальных чисел по строчкам')\n",
    "    print(max(list_1[i]))\n",
    "print('______________________________________')\n",
    "for i in range(len(list_1[0])):\n",
    "    print('Максимальные в слобе', i)\n",
    "    print(max(list_1[0][i], list_1[1][i], list_1[2][i], list_1[3][i]))"
   ]
  },
  {
   "cell_type": "code",
   "execution_count": 86,
   "id": "109ad7f1",
   "metadata": {},
   "outputs": [
    {
     "data": {
      "text/plain": [
       "array([ 1,  2,  3,  4,  5,  6,  7,  8,  9, 10, 11, 12, 13, 14, 15, 16, 17,\n",
       "       18, 19, 20])"
      ]
     },
     "execution_count": 86,
     "metadata": {},
     "output_type": "execute_result"
    }
   ],
   "source": [
    "ar1"
   ]
  },
  {
   "cell_type": "code",
   "execution_count": 87,
   "id": "c1968ed8",
   "metadata": {},
   "outputs": [
    {
     "data": {
      "text/plain": [
       "20"
      ]
     },
     "execution_count": 87,
     "metadata": {},
     "output_type": "execute_result"
    }
   ],
   "source": [
    "np.max(ar1)"
   ]
  },
  {
   "cell_type": "code",
   "execution_count": 90,
   "id": "887d35bf",
   "metadata": {},
   "outputs": [],
   "source": [
    "ar1.shape = 4, 5 "
   ]
  },
  {
   "cell_type": "code",
   "execution_count": 91,
   "id": "321c7c7e",
   "metadata": {},
   "outputs": [
    {
     "data": {
      "text/plain": [
       "array([[ 1,  2,  3,  4,  5],\n",
       "       [ 6,  7,  8,  9, 10],\n",
       "       [11, 12, 13, 14, 15],\n",
       "       [16, 17, 18, 19, 20]])"
      ]
     },
     "execution_count": 91,
     "metadata": {},
     "output_type": "execute_result"
    }
   ],
   "source": [
    "ar1"
   ]
  },
  {
   "cell_type": "code",
   "execution_count": null,
   "id": "9d035a5a",
   "metadata": {},
   "outputs": [],
   "source": []
  }
 ],
 "metadata": {
  "kernelspec": {
   "display_name": "Python 3 (ipykernel)",
   "language": "python",
   "name": "python3"
  },
  "language_info": {
   "codemirror_mode": {
    "name": "ipython",
    "version": 3
   },
   "file_extension": ".py",
   "mimetype": "text/x-python",
   "name": "python",
   "nbconvert_exporter": "python",
   "pygments_lexer": "ipython3",
   "version": "3.9.13"
  }
 },
 "nbformat": 4,
 "nbformat_minor": 5
}
